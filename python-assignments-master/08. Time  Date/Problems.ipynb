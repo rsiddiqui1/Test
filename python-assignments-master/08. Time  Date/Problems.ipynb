{
 "cells": [
  {
   "cell_type": "markdown",
   "metadata": {},
   "source": [
    "### Python Datetime - Exercises"
   ]
  },
  {
   "cell_type": "markdown",
   "metadata": {},
   "source": [
    "#### 1. Write a Python script to display the \n",
    "* Current date and time\n",
    "* Current year\n",
    "* Month of year\n",
    "* Week number of the year\n",
    "* Weekday of the week\n",
    "* Day of year\n",
    "* Day of the month\n",
    "* Day of week"
   ]
  },
  {
   "cell_type": "code",
   "execution_count": 1,
   "metadata": {},
   "outputs": [
    {
     "name": "stdout",
     "output_type": "stream",
     "text": [
      "Current date and time:  2017-09-06 20:08:10.691869\n",
      "Current year:  2017\n",
      "Month of year:  September\n",
      "Week number of the year:  36\n",
      "Weekday of the week:  3\n",
      "Day of year:  249\n",
      "Day of the month :  06\n",
      "Day of week:  Wednesday\n"
     ]
    }
   ],
   "source": [
    "import time\n",
    "import datetime\n",
    "print(\"Current date and time: \" , datetime.datetime.now())\n",
    "print(\"Current year: \", datetime.date.today().strftime(\"%Y\"))\n",
    "print(\"Month of year: \", datetime.date.today().strftime(\"%B\"))\n",
    "print(\"Week number of the year: \", datetime.date.today().strftime(\"%W\"))\n",
    "print(\"Weekday of the week: \", datetime.date.today().strftime(\"%w\"))\n",
    "print(\"Day of year: \", datetime.date.today().strftime(\"%j\"))\n",
    "print(\"Day of the month : \", datetime.date.today().strftime(\"%d\"))\n",
    "print(\"Day of week: \", datetime.date.today().strftime(\"%A\"))"
   ]
  },
  {
   "cell_type": "markdown",
   "metadata": {},
   "source": [
    "#### 2. Write a Python program to determine whether a given year is a leap year."
   ]
  },
  {
   "cell_type": "code",
   "execution_count": null,
   "metadata": {
    "collapsed": true
   },
   "outputs": [],
   "source": []
  },
  {
   "cell_type": "markdown",
   "metadata": {},
   "source": [
    "#### 3. Write a Python program to convert a string to datetime.\n",
    "* Sample String : Jan 1 2014 2:43PM \n",
    "* Expected Output : 2014-07-01 14:43:00"
   ]
  },
  {
   "cell_type": "code",
   "execution_count": null,
   "metadata": {
    "collapsed": true
   },
   "outputs": [],
   "source": []
  },
  {
   "cell_type": "markdown",
   "metadata": {},
   "source": [
    "#### 4. Write a Python program to subtract five days from current date"
   ]
  },
  {
   "cell_type": "code",
   "execution_count": null,
   "metadata": {
    "collapsed": true
   },
   "outputs": [],
   "source": []
  },
  {
   "cell_type": "markdown",
   "metadata": {},
   "source": [
    "#### 5.Write a Python program to convert unix timestamp string to readable date"
   ]
  },
  {
   "cell_type": "code",
   "execution_count": null,
   "metadata": {
    "collapsed": true
   },
   "outputs": [],
   "source": []
  },
  {
   "cell_type": "markdown",
   "metadata": {},
   "source": [
    "#### 6. Write a Python program to print yesterday, today, tomorrow."
   ]
  },
  {
   "cell_type": "code",
   "execution_count": null,
   "metadata": {
    "collapsed": true
   },
   "outputs": [],
   "source": []
  },
  {
   "cell_type": "markdown",
   "metadata": {},
   "source": [
    "#### 7. Write a Python program to get week number"
   ]
  },
  {
   "cell_type": "code",
   "execution_count": null,
   "metadata": {
    "collapsed": true
   },
   "outputs": [],
   "source": []
  },
  {
   "cell_type": "markdown",
   "metadata": {},
   "source": [
    "#### 8.Write a Python program to select all the Sundays of a specified year"
   ]
  },
  {
   "cell_type": "code",
   "execution_count": null,
   "metadata": {
    "collapsed": true
   },
   "outputs": [],
   "source": []
  },
  {
   "cell_type": "markdown",
   "metadata": {},
   "source": [
    "#### 9. Write a Python program to get the last day of a specified year and month"
   ]
  },
  {
   "cell_type": "code",
   "execution_count": null,
   "metadata": {
    "collapsed": true
   },
   "outputs": [],
   "source": []
  }
 ],
 "metadata": {
  "kernelspec": {
   "display_name": "Python 3",
   "language": "python",
   "name": "python3"
  },
  "language_info": {
   "codemirror_mode": {
    "name": "ipython",
    "version": 3
   },
   "file_extension": ".py",
   "mimetype": "text/x-python",
   "name": "python",
   "nbconvert_exporter": "python",
   "pygments_lexer": "ipython3",
   "version": "3.6.1"
  }
 },
 "nbformat": 4,
 "nbformat_minor": 2
}
